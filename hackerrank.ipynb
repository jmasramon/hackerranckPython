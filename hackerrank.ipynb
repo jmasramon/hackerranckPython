{
 "metadata": {
  "name": "",
  "signature": "sha256:2339e3b641e105bb87c4428993cb396a89c0c2e62aa7d6a136660714436dcfeb"
 },
 "nbformat": 3,
 "nbformat_minor": 0,
 "worksheets": [
  {
   "cells": [
    {
     "cell_type": "heading",
     "level": 4,
     "metadata": {},
     "source": [
      "matrix_order = int(input())\n",
      "\n",
      "matrix = [[] for _ in range(matrix_order)]\n",
      "for i in range(matrix_order):\n",
      "    matrix[i] = map(input().split(), lambda x: int(x))\n",
      "\n",
      "first_diagonal_sum = 0\n",
      "for i in range(matrix_order):\n",
      "    first_diagonal_sum += matrix[i][i]\n",
      "    \n",
      "print(matrix)\n",
      "print(first_diagonal_sum)"
     ]
    },
    {
     "cell_type": "code",
     "collapsed": false,
     "input": [
      "matrix_order = int(input()) \n",
      "matrix = [[] for _ in range(matrix_order)] \n",
      "for i in range(matrix_order): \n",
      "    line = input().split()\n",
      "    matrix[i] = list(map(lambda x: int(x), line)) \n",
      "\n",
      "first_diagonal_sum = 0 \n",
      "for i in range(matrix_order): \n",
      "    first_diagonal_sum += matrix[i][i] \n",
      "\n",
      "second_diagonal_sum = 0 \n",
      "for i in range(matrix_order): \n",
      "    second_diagonal_sum += matrix[i][matrix_order-1-i] \n",
      "\n",
      "print(abs(first_diagonal_sum - second_diagonal_sum))"
     ],
     "language": "python",
     "metadata": {},
     "outputs": [
      {
       "name": "stdout",
       "output_type": "stream",
       "stream": "stdout",
       "text": [
        "3\n"
       ]
      },
      {
       "name": "stdout",
       "output_type": "stream",
       "stream": "stdout",
       "text": [
        "1 2 3\n"
       ]
      },
      {
       "name": "stdout",
       "output_type": "stream",
       "stream": "stdout",
       "text": [
        "2 3 4\n"
       ]
      },
      {
       "name": "stdout",
       "output_type": "stream",
       "stream": "stdout",
       "text": [
        "3 4 5\n"
       ]
      },
      {
       "output_type": "stream",
       "stream": "stdout",
       "text": [
        "0\n"
       ]
      }
     ],
     "prompt_number": 33
    },
    {
     "cell_type": "code",
     "collapsed": false,
     "input": [
      "matrix_order = int(input()) \n",
      "matrix = [[] for _ in range(matrix_order)] \n",
      "signed_result = 0\n",
      "for i in range(matrix_order): \n",
      "    line = input().split()\n",
      "    matrix[i] = list(map(lambda x: int(x), line)) \n",
      "    signed_result += matrix[i][i] - matrix[i][matrix_order-1-i] \n",
      "print(abs(signed_result))\n"
     ],
     "language": "python",
     "metadata": {},
     "outputs": [
      {
       "name": "stdout",
       "output_type": "stream",
       "stream": "stdout",
       "text": [
        "3\n"
       ]
      },
      {
       "name": "stdout",
       "output_type": "stream",
       "stream": "stdout",
       "text": [
        "1 2 3\n"
       ]
      },
      {
       "name": "stdout",
       "output_type": "stream",
       "stream": "stdout",
       "text": [
        "2 3 4\n"
       ]
      },
      {
       "name": "stdout",
       "output_type": "stream",
       "stream": "stdout",
       "text": [
        "3 4 5\n"
       ]
      },
      {
       "output_type": "stream",
       "stream": "stdout",
       "text": [
        "0\n"
       ]
      }
     ],
     "prompt_number": 32
    },
    {
     "cell_type": "code",
     "collapsed": false,
     "input": [
      "matrix_order = int(input()) \n",
      "matrix = []\n",
      "\n",
      "for i in range(matrix_order): \n",
      "    matrix.append(list(map(int,input().split())))\n",
      "\n",
      "total = sum([matrix[i][i] - matrix[i][matrix_order-1-i] for i in range(matrix_order)])  \n",
      "\n",
      "print(abs(total))"
     ],
     "language": "python",
     "metadata": {},
     "outputs": [
      {
       "name": "stdout",
       "output_type": "stream",
       "stream": "stdout",
       "text": [
        "3\n"
       ]
      },
      {
       "name": "stdout",
       "output_type": "stream",
       "stream": "stdout",
       "text": [
        "1 2 3\n"
       ]
      },
      {
       "name": "stdout",
       "output_type": "stream",
       "stream": "stdout",
       "text": [
        "2 3 4\n"
       ]
      },
      {
       "name": "stdout",
       "output_type": "stream",
       "stream": "stdout",
       "text": [
        "3 4 5\n"
       ]
      },
      {
       "output_type": "stream",
       "stream": "stdout",
       "text": [
        "0\n"
       ]
      }
     ],
     "prompt_number": 2
    },
    {
     "cell_type": "code",
     "collapsed": false,
     "input": [
      "num_integers = int(input())\n",
      "integers = list(map(int, input().split()))[:num_integers]\n",
      "positives = list(filter(lambda x: x > 0, integers))\n",
      "print(positives)\n",
      "negatives = list(filter(lambda x: x < 0, integers))\n",
      "print(negatives)\n",
      "zeroes = list(set(integers) - (set(positives) | set(negatives)))\n",
      "print(zeroes)\n",
      "pos_frac = len(positives)/num_integers\n",
      "neg_frac = len(negatives)/num_integers\n",
      "zer_frac = len(zeroes)/num_integers\n",
      "print(\"{0:.3f}\".format(round(pos_frac,3)))\n",
      "print(\"{0:.3f}\".format(round(neg_frac,3)))\n",
      "print(\"{0:.3f}\".format(round(zer_frac,3)))\n"
     ],
     "language": "python",
     "metadata": {},
     "outputs": [
      {
       "name": "stdout",
       "output_type": "stream",
       "stream": "stdout",
       "text": [
        "2\n"
       ]
      },
      {
       "name": "stdout",
       "output_type": "stream",
       "stream": "stdout",
       "text": [
        "1 1\n"
       ]
      },
      {
       "output_type": "stream",
       "stream": "stdout",
       "text": [
        "[1, 1]\n",
        "[]\n",
        "[]\n",
        "1.000\n",
        "0.000\n",
        "0.000\n"
       ]
      }
     ],
     "prompt_number": 41
    },
    {
     "cell_type": "code",
     "collapsed": false,
     "input": [
      "staircase_heigth = int(input())\n",
      "for floor in range(staircase_heigth):\n",
      "    print(' ' * (staircase_heigth-1-floor) + '#'*(floor+1))"
     ],
     "language": "python",
     "metadata": {},
     "outputs": [
      {
       "name": "stdout",
       "output_type": "stream",
       "stream": "stdout",
       "text": [
        "10\n"
       ]
      },
      {
       "output_type": "stream",
       "stream": "stdout",
       "text": [
        "         #\n",
        "        ##\n",
        "       ###\n",
        "      ####\n",
        "     #####\n",
        "    ######\n",
        "   #######\n",
        "  ########\n",
        " #########\n",
        "##########\n"
       ]
      }
     ],
     "prompt_number": 46
    },
    {
     "cell_type": "code",
     "collapsed": false,
     "input": [
      "raw_time_am_pm = input()\n",
      "numbers = raw_time_am_pm[:8].split(':')\n",
      "am_pm = raw_time_am_pm[8:10]\n",
      "#print(raw_time_am_pm, numbers, am_pm)\n",
      "hour_add = 0\n",
      "if am_pm == 'PM' and int(numbers[0])<12: \n",
      "    hour_add = 12\n",
      "if am_pm == 'AM' and int(numbers[0])==12:\n",
      "    hour_add = -12\n",
      "hour = str(int(numbers[0])+hour_add)\n",
      "if len(hour) ==1:\n",
      "    hour = '0'+hour\n",
      "print(hour+':'+numbers[1]+':'+numbers[2])"
     ],
     "language": "python",
     "metadata": {},
     "outputs": [
      {
       "name": "stdout",
       "output_type": "stream",
       "stream": "stdout",
       "text": [
        "12:00:00AM\n"
       ]
      },
      {
       "output_type": "stream",
       "stream": "stdout",
       "text": [
        "12:00:00AM ['12', '00', '00'] AM\n",
        "00:00:00\n"
       ]
      }
     ],
     "prompt_number": 71
    },
    {
     "cell_type": "code",
     "collapsed": false,
     "input": [],
     "language": "python",
     "metadata": {},
     "outputs": []
    }
   ],
   "metadata": {}
  }
 ]
}