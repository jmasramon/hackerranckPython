{
 "metadata": {
  "name": "",
  "signature": "sha256:39f242d37211a6e0b2f319bae3e1437e4e91c00fcd83413cd8e638ad7b17d07f"
 },
 "nbformat": 3,
 "nbformat_minor": 0,
 "worksheets": [
  {
   "cells": [
    {
     "cell_type": "markdown",
     "metadata": {},
     "source": [
      "# HackerRank\n",
      "\n",
      "## Diagonal Difference\n",
      "\n",
      "### Version one"
     ]
    },
    {
     "cell_type": "code",
     "collapsed": false,
     "input": [
      "matrix_order = int(input()) \n",
      "matrix = [[] for _ in range(matrix_order)] \n",
      "for i in range(matrix_order): \n",
      "    line = input().split()\n",
      "    matrix[i] = list(map(lambda x: int(x), line)) \n",
      "\n",
      "first_diagonal_sum = 0 \n",
      "for i in range(matrix_order): \n",
      "    first_diagonal_sum += matrix[i][i] \n",
      "\n",
      "second_diagonal_sum = 0 \n",
      "for i in range(matrix_order): \n",
      "    second_diagonal_sum += matrix[i][matrix_order-1-i] \n",
      "\n",
      "print(abs(first_diagonal_sum - second_diagonal_sum))"
     ],
     "language": "python",
     "metadata": {},
     "outputs": [
      {
       "name": "stdout",
       "output_type": "stream",
       "stream": "stdout",
       "text": [
        "3\n"
       ]
      },
      {
       "name": "stdout",
       "output_type": "stream",
       "stream": "stdout",
       "text": [
        "2 3 4\n"
       ]
      },
      {
       "name": "stdout",
       "output_type": "stream",
       "stream": "stdout",
       "text": [
        "4 5 6\n"
       ]
      },
      {
       "name": "stdout",
       "output_type": "stream",
       "stream": "stdout",
       "text": [
        "5 6 7\n"
       ]
      },
      {
       "output_type": "stream",
       "stream": "stdout",
       "text": [
        "0\n"
       ]
      }
     ],
     "prompt_number": 11
    },
    {
     "cell_type": "markdown",
     "metadata": {},
     "source": [
      "### Version two"
     ]
    },
    {
     "cell_type": "code",
     "collapsed": false,
     "input": [
      "matrix_order = int(input()) \n",
      "matrix = [[] for _ in range(matrix_order)] \n",
      "signed_result = 0\n",
      "for i in range(matrix_order): \n",
      "    line = input().split()\n",
      "    matrix[i] = list(map(lambda x: int(x), line)) \n",
      "    signed_result += matrix[i][i] - matrix[i][matrix_order-1-i] \n",
      "print(abs(signed_result))\n"
     ],
     "language": "python",
     "metadata": {},
     "outputs": [
      {
       "name": "stdout",
       "output_type": "stream",
       "stream": "stdout",
       "text": [
        "3\n"
       ]
      },
      {
       "name": "stdout",
       "output_type": "stream",
       "stream": "stdout",
       "text": [
        "2 3 4\n"
       ]
      },
      {
       "name": "stdout",
       "output_type": "stream",
       "stream": "stdout",
       "text": [
        "4 5 6\n"
       ]
      },
      {
       "name": "stdout",
       "output_type": "stream",
       "stream": "stdout",
       "text": [
        "5 6 7\n"
       ]
      },
      {
       "output_type": "stream",
       "stream": "stdout",
       "text": [
        "0\n"
       ]
      }
     ],
     "prompt_number": 12
    },
    {
     "cell_type": "markdown",
     "metadata": {},
     "source": [
      "### Version tree"
     ]
    },
    {
     "cell_type": "code",
     "collapsed": false,
     "input": [
      "matrix_order = int(input()) \n",
      "matrix = []\n",
      "\n",
      "for i in range(matrix_order): \n",
      "    matrix.append(list(map(int,input().split())))\n",
      "\n",
      "total = sum([matrix[i][i] - matrix[i][matrix_order-1-i] for i in range(matrix_order)])  \n",
      "\n",
      "print(abs(total))"
     ],
     "language": "python",
     "metadata": {},
     "outputs": [
      {
       "name": "stdout",
       "output_type": "stream",
       "stream": "stdout",
       "text": [
        "3\n"
       ]
      },
      {
       "name": "stdout",
       "output_type": "stream",
       "stream": "stdout",
       "text": [
        "2 3 4\n"
       ]
      },
      {
       "name": "stdout",
       "output_type": "stream",
       "stream": "stdout",
       "text": [
        "5 6 7\n"
       ]
      },
      {
       "name": "stdout",
       "output_type": "stream",
       "stream": "stdout",
       "text": [
        "8 9 10\n"
       ]
      },
      {
       "output_type": "stream",
       "stream": "stdout",
       "text": [
        "0\n"
       ]
      }
     ],
     "prompt_number": 13
    },
    {
     "cell_type": "markdown",
     "metadata": {},
     "source": [
      "## Plus Minus"
     ]
    },
    {
     "cell_type": "code",
     "collapsed": false,
     "input": [
      "num_integers = int(input())\n",
      "integers = list(map(int, input().split()))[:num_integers]\n",
      "positives = list(filter(lambda x: x > 0, integers))\n",
      "print(positives)\n",
      "negatives = list(filter(lambda x: x < 0, integers))\n",
      "print(negatives)\n",
      "zeroes = list(set(integers) - (set(positives) | set(negatives)))\n",
      "print(zeroes)\n",
      "pos_frac = len(positives)/num_integers\n",
      "neg_frac = len(negatives)/num_integers\n",
      "zer_frac = len(zeroes)/num_integers\n",
      "print(\"{0:.3f}\".format(round(pos_frac,3)))\n",
      "print(\"{0:.3f}\".format(round(neg_frac,3)))\n",
      "print(\"{0:.3f}\".format(round(zer_frac,3)))\n"
     ],
     "language": "python",
     "metadata": {},
     "outputs": [
      {
       "name": "stdout",
       "output_type": "stream",
       "stream": "stdout",
       "text": [
        "6\n"
       ]
      },
      {
       "name": "stdout",
       "output_type": "stream",
       "stream": "stdout",
       "text": [
        "1 2 -1 -1 0 0\n"
       ]
      },
      {
       "output_type": "stream",
       "stream": "stdout",
       "text": [
        "[1, 2]\n",
        "[-1, -1]\n",
        "[0]\n",
        "0.333\n",
        "0.333\n",
        "0.167\n"
       ]
      }
     ],
     "prompt_number": 14
    },
    {
     "cell_type": "markdown",
     "metadata": {},
     "source": [
      "## Staircase"
     ]
    },
    {
     "cell_type": "code",
     "collapsed": false,
     "input": [
      "staircase_heigth = int(input())\n",
      "for floor in range(staircase_heigth):\n",
      "    print(' ' * (staircase_heigth-1-floor) + '#'*(floor+1))"
     ],
     "language": "python",
     "metadata": {},
     "outputs": [
      {
       "name": "stdout",
       "output_type": "stream",
       "stream": "stdout",
       "text": [
        "5\n"
       ]
      },
      {
       "output_type": "stream",
       "stream": "stdout",
       "text": [
        "    #\n",
        "   ##\n",
        "  ###\n",
        " ####\n",
        "#####\n"
       ]
      }
     ],
     "prompt_number": 15
    },
    {
     "cell_type": "markdown",
     "metadata": {},
     "source": [
      "## Time conversion"
     ]
    },
    {
     "cell_type": "code",
     "collapsed": false,
     "input": [
      "raw_time_am_pm = input()\n",
      "numbers = raw_time_am_pm[:8].split(':')\n",
      "am_pm = raw_time_am_pm[8:10]\n",
      "#print(raw_time_am_pm, numbers, am_pm)\n",
      "hour_add = 0\n",
      "if am_pm == 'PM' and int(numbers[0])<12: \n",
      "    hour_add = 12\n",
      "if am_pm == 'AM' and int(numbers[0])==12:\n",
      "    hour_add = -12\n",
      "hour = str(int(numbers[0])+hour_add)\n",
      "if len(hour) ==1:\n",
      "    hour = '0'+hour\n",
      "print(hour+':'+numbers[1]+':'+numbers[2])"
     ],
     "language": "python",
     "metadata": {},
     "outputs": [
      {
       "name": "stdout",
       "output_type": "stream",
       "stream": "stdout",
       "text": [
        "12:00:00AM\n"
       ]
      },
      {
       "output_type": "stream",
       "stream": "stdout",
       "text": [
        "12:00:00AM ['12', '00', '00'] AM\n",
        "00:00:00\n"
       ]
      }
     ],
     "prompt_number": 71
    },
    {
     "cell_type": "markdown",
     "metadata": {},
     "source": [
      "## Library fine"
     ]
    },
    {
     "cell_type": "code",
     "collapsed": false,
     "input": [
      "#import datetime\n",
      "#actual = time.strptime(input(), \"\")\n",
      "actual = list(map(int,input().split()))\n",
      "expected = list(map(int,input().split()))\n",
      "differences = [x-y for x,y in zip(actual, expected)]\n",
      "print(differences)\n",
      "if actual[2] < expected[2]:\n",
      "    print(0)\n",
      "elif actual[2] > expected[2]:\n",
      "    print(10000)\n",
      "elif actual[1] < expected[1]:\n",
      "    print(0)\n",
      "elif actual[1] > expected[1]:\n",
      "    print(500*(actual[1] - expected[1]))\n",
      "elif actual[0] > expected[0]:\n",
      "    print(15* (actual[0] - expected[0]))\n",
      "else:\n",
      "    print(0)\n"
     ],
     "language": "python",
     "metadata": {},
     "outputs": [
      {
       "name": "stdout",
       "output_type": "stream",
       "stream": "stdout",
       "text": [
        "9 6 2015\n"
       ]
      },
      {
       "name": "stdout",
       "output_type": "stream",
       "stream": "stdout",
       "text": [
        "6 6 2015\n"
       ]
      },
      {
       "output_type": "stream",
       "stream": "stdout",
       "text": [
        "[3, 0, 0]\n",
        "45\n"
       ]
      }
     ],
     "prompt_number": 16
    },
    {
     "cell_type": "markdown",
     "metadata": {},
     "source": [
      "## Caesar cipher"
     ]
    },
    {
     "cell_type": "code",
     "collapsed": false,
     "input": [
      "import re\n",
      "\n",
      "num_of_chars = ord('z') - ord('a')\n",
      "\n",
      "length = int(input())\n",
      "string = list(input())\n",
      "rotation = int(input()) \n",
      "\n",
      "\n",
      "for i,char in enumerate(string):\n",
      "    m = re.search('[a-z]', char)\n",
      "    if m:\n",
      "        if ((ord(m.group(0)) + rotation)>ord('z')):\n",
      "            string[i] = chr((((ord(m.group(0)) + rotation)-ord('a'))%num_of_chars)+ord('a')-1)\n",
      "        else:\n",
      "            string[i] = chr(ord(m.group(0)) + rotation)\n",
      "    else:\n",
      "        m = re.search('[A-Z]', char)\n",
      "        if m:\n",
      "            if ((ord(m.group(0)) + rotation)>ord('Z')):\n",
      "                string[i] = chr((((ord(m.group(0)) + rotation)-ord('A'))%num_of_chars)+ord('A')-1)\n",
      "            else:\n",
      "                string[i] = chr(ord(m.group(0)) + rotation)\n",
      "    \n",
      "print(''.join(string))"
     ],
     "language": "python",
     "metadata": {},
     "outputs": [
      {
       "name": "stdout",
       "output_type": "stream",
       "stream": "stdout",
       "text": [
        "11\n"
       ]
      },
      {
       "name": "stdout",
       "output_type": "stream",
       "stream": "stdout",
       "text": [
        "middle-Outz\n"
       ]
      },
      {
       "name": "stdout",
       "output_type": "stream",
       "stream": "stdout",
       "text": [
        "2\n"
       ]
      },
      {
       "output_type": "stream",
       "stream": "stdout",
       "text": [
        "okffng-Qwva\n"
       ]
      }
     ],
     "prompt_number": 71
    },
    {
     "cell_type": "markdown",
     "metadata": {},
     "source": [
      "### Version 2"
     ]
    },
    {
     "cell_type": "code",
     "collapsed": false,
     "input": [
      "num_of_chars = ord('z') - ord('a')\n",
      "\n",
      "length = int(input())\n",
      "string = list(input())\n",
      "rotation = int(input()) % num_of_chars\n",
      "\n",
      "for i,char in enumerate(string):\n",
      "    if char.isalpha():\n",
      "        string[i] = chr(ord(char) + rotation)\n",
      "        if (char.isupper() and ((ord(char) + rotation) > ord('Z'))):\n",
      "            string[i] = chr((ord(char) - num_of_chars) + 1)\n",
      "        else:\n",
      "            if ((ord(char) + rotation) > ord('z')):\n",
      "                string[i] = chr((ord(char) - num_of_chars) + 1)\n",
      "    \n",
      "print(''.join(string))"
     ],
     "language": "python",
     "metadata": {},
     "outputs": [
      {
       "name": "stdout",
       "output_type": "stream",
       "stream": "stdout",
       "text": [
        "11\n"
       ]
      },
      {
       "name": "stdout",
       "output_type": "stream",
       "stream": "stdout",
       "text": [
        "middle-Outz\n"
       ]
      },
      {
       "name": "stdout",
       "output_type": "stream",
       "stream": "stdout",
       "text": [
        "2\n"
       ]
      },
      {
       "output_type": "stream",
       "stream": "stdout",
       "text": [
        "okffng-Qwvb\n"
       ]
      }
     ],
     "prompt_number": 83
    },
    {
     "cell_type": "code",
     "collapsed": false,
     "input": [
      "27%25"
     ],
     "language": "python",
     "metadata": {},
     "outputs": [
      {
       "metadata": {},
       "output_type": "pyout",
       "prompt_number": 43,
       "text": [
        "2"
       ]
      }
     ],
     "prompt_number": 43
    },
    {
     "cell_type": "code",
     "collapsed": false,
     "input": [
      "ord('z') - ord('a')"
     ],
     "language": "python",
     "metadata": {},
     "outputs": [
      {
       "metadata": {},
       "output_type": "pyout",
       "prompt_number": 70,
       "text": [
        "25"
       ]
      }
     ],
     "prompt_number": 70
    },
    {
     "cell_type": "code",
     "collapsed": false,
     "input": [
      "2%25"
     ],
     "language": "python",
     "metadata": {},
     "outputs": [
      {
       "metadata": {},
       "output_type": "pyout",
       "prompt_number": 76,
       "text": [
        "2"
       ]
      }
     ],
     "prompt_number": 76
    },
    {
     "cell_type": "code",
     "collapsed": false,
     "input": [],
     "language": "python",
     "metadata": {},
     "outputs": []
    }
   ],
   "metadata": {}
  }
 ]
}